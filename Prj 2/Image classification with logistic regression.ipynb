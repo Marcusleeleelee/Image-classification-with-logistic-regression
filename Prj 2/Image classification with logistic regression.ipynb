{
 "cells": [
  {
   "cell_type": "code",
   "execution_count": 55,
   "id": "3270ad00-c8f4-4745-a84d-15ce62a3b397",
   "metadata": {},
   "outputs": [],
   "source": [
    "# Step 1:Import relevant packages\n",
    "import pandas as pd\n",
    "import numpy as np\n",
    "import cv2\n",
    "import os\n",
    "import matplotlib.pyplot as plt"
   ]
  },
  {
   "cell_type": "code",
   "execution_count": 16,
   "id": "88d32a9d-b03d-4421-b873-b9f8c0cdbb42",
   "metadata": {},
   "outputs": [
    {
     "name": "stdout",
     "output_type": "stream",
     "text": [
      "[81 83 84 ... 30 29 25]\n"
     ]
    }
   ],
   "source": [
    "# Play with the image dataset\n",
    "cat_pic_1 = cv2.imread(r\"C:\\Users\\leesi\\Favorites\\Data Sources\\Cat and dog classification\\train\\cat\\Abyssinian_15_jpg.rf.7bc44eeb9865e35cb1d5f9ef4f53b381.jpg\", cv2.IMREAD_COLOR)\n",
    "cat_pic_2 = cv2.resize(cat_pic_1, (100, 100))\n",
    "cat_pic_2 = cat_pic_2.flatten()\n",
    "print(cat_pic_2)"
   ]
  },
  {
   "cell_type": "code",
   "execution_count": 231,
   "id": "9b88f2ee-afb6-4fb2-8008-0094c1a8aaf2",
   "metadata": {},
   "outputs": [],
   "source": [
    "# Helper function 1 - get file location\n",
    "def get_file_locations(folder_location):\n",
    "    file_locations = []\n",
    "    \n",
    "    for root, dirs, files in os.walk(folder_location):\n",
    "        for file in files:\n",
    "            file_path = os.path.join(root, file)\n",
    "            file_locations.append(file_path)\n",
    "    \n",
    "    return file_locations"
   ]
  },
  {
   "cell_type": "code",
   "execution_count": 232,
   "id": "26dc1626-e0bf-4d5a-b2ed-c3d145834bbc",
   "metadata": {},
   "outputs": [],
   "source": [
    "# Helper function 2 - Loading data in\n",
    "def getImageData(address, label, img_size = 100):\n",
    "    file_loc = get_file_locations(address)\n",
    "\n",
    "    # Define parameters\n",
    "    num_record = len(file_loc)\n",
    "\n",
    "    # Process data\n",
    "    data = []\n",
    "    for i in range(num_record):\n",
    "        image = cv2.imread(file_loc[i], cv2.IMREAD_COLOR) \n",
    "        # IMREAD_COLOR is used to read the image as an RGB image. It ignores the alpha channel present in the image. It is the default value for the flag parameters.\n",
    "        # cv2.imread(path, flag) is the template for the imread function\n",
    "        # Flag: It will specify a way in which the image is supposed to be read. By default, it takes a colour value which is cv2.IMREAD_COLOR.\n",
    "        image = cv2.resize(image, (img_size, img_size))\n",
    "        image = image.flatten()/255 # Normalization\n",
    "        image = np.append(image, label) # the label for dog is 1\n",
    "        data.append(image)\n",
    "    dataset\n",
    "    # Set columns\n",
    "    return pd.DataFrame(data, columns = [f'Pixel {i+1}' for i in range((img_size ** 2) * 3)] + ['label'])"
   ]
  },
  {
   "cell_type": "code",
   "execution_count": 233,
   "id": "fb43de5a-a6d1-4d2a-9c4d-51352c24870f",
   "metadata": {},
   "outputs": [],
   "source": [
    "# Play with the image dataset using openCV\n",
    "def showChangedSizeImage(path, iterations=10):\n",
    "    image = cv2.imread(path, cv2.IMREAD_COLOR)\n",
    "    for i in range(iterations):\n",
    "        resized_image = cv2.resize(image, (500 + 50 * i, 500 + 50 * i))\n",
    "        cv2.imshow(\"Resized Image: \" + str(i), resized_image)\n",
    "        cv2.waitKey(700)\n",
    "        cv2.destroyAllWindows()\n",
    "\n",
    "image_path = r\"C:\\Users\\leesi\\Favorites\\Data Sources\\Cat and dog classification\\train\\cat\\Abyssinian_167_jpg.rf.1d367cb1cf82c1e5ebda79fda928cee5.jpg\"\n",
    "showChangedSizeImage(image_path, iterations=10)\n"
   ]
  },
  {
   "cell_type": "code",
   "execution_count": 234,
   "id": "f815b00e-357b-4b8c-aa27-c78dca9dc7ab",
   "metadata": {},
   "outputs": [],
   "source": [
    "# Step 2: Get cat and dog data and preprocess them with Normalization\n",
    "cat_dataFrame = getImageData(r'C:\\Users\\leesi\\Favorites\\Data Sources\\Cat and dog classification\\train\\cat', 1)\n",
    "dog_dataFrame = getImageData(r'C:\\Users\\leesi\\Favorites\\Data Sources\\Cat and dog classification\\train\\dog', 0)\n",
    "full_dataset = pd.concat([dog_dataFrame, cat_dataFrame], ignore_index=True) # ignore_index = true => Index will be reassigned\n",
    "\n",
    "# Shuffle the dataset\n",
    "dataset = dataset.sample(frac=1, random_state=42).reset_index(drop=True) # drop: Takes a boolean value and is set to False by default. When this parameter is set to True it replaces the previous DataFrame index with the new index provided by .reset_index(), otherwise it sets the new index in front of the old index."
   ]
  },
  {
   "cell_type": "code",
   "execution_count": 235,
   "id": "9a60eab6-b88c-4eca-9737-5854afd14baf",
   "metadata": {},
   "outputs": [
    {
     "name": "stdout",
     "output_type": "stream",
     "text": [
      "The shape of the cat dog dataset is: (275, 30001)\n",
      "................................................................................................\n",
      "Data previewing:\n",
      "    Pixel 1   Pixel 2   Pixel 3   Pixel 4   Pixel 5   Pixel 6   Pixel 7  \\\n",
      "0  0.470588  0.501961  0.498039  0.470588  0.501961  0.498039  0.470588   \n",
      "1  0.564706  0.694118  0.768627  0.580392  0.709804  0.784314  0.580392   \n",
      "2  0.349020  0.454902  0.509804  0.403922  0.509804  0.564706  0.372549   \n",
      "3  0.219608  0.258824  0.325490  0.188235  0.223529  0.294118  0.168627   \n",
      "4  0.003922  0.286275  0.180392  0.007843  0.294118  0.176471  0.070588   \n",
      "\n",
      "    Pixel 8   Pixel 9  Pixel 10  ...  Pixel 29992  Pixel 29993  Pixel 29994  \\\n",
      "0  0.501961  0.498039  0.470588  ...     0.470588     0.498039     0.584314   \n",
      "1  0.717647  0.803922  0.513725  ...     0.725490     0.823529     0.949020   \n",
      "2  0.478431  0.533333  0.407843  ...     0.486275     0.607843     0.666667   \n",
      "3  0.207843  0.274510  0.145098  ...     0.905882     0.941176     0.996078   \n",
      "4  0.137255  0.094118  0.015686  ...     0.388235     0.815686     0.768627   \n",
      "\n",
      "   Pixel 29995  Pixel 29996  Pixel 29997  Pixel 29998  Pixel 29999  \\\n",
      "0     0.482353     0.498039     0.603922     0.435294     0.447059   \n",
      "1     0.729412     0.835294     0.968627     0.717647     0.827451   \n",
      "2     0.509804     0.631373     0.690196     0.505882     0.619608   \n",
      "3     0.850980     0.913725     0.976471     0.823529     0.882353   \n",
      "4     0.305882     0.847059     0.776471     0.098039     0.752941   \n",
      "\n",
      "   Pixel 30000  label  \n",
      "0     0.568627    0.0  \n",
      "1     0.964706    1.0  \n",
      "2     0.678431    1.0  \n",
      "3     0.945098    1.0  \n",
      "4     0.670588    1.0  \n",
      "\n",
      "[5 rows x 30001 columns]\n",
      "................................................................................................\n",
      "The dataset has: 275 samples, and 30001 columns.\n"
     ]
    }
   ],
   "source": [
    "# Testing results\n",
    "print(\"The shape of the cat dog dataset is:\", dataset.shape)\n",
    "print(\"................................................................................................\")\n",
    "print(\"Data previewing:\")\n",
    "print(dataset.head(5))\n",
    "\n",
    "# Retrieving important information\n",
    "total_sample = dataset.shape[0]\n",
    "total_columns = dataset.shape[1]\n",
    "print(\"................................................................................................\")\n",
    "print(\"The dataset has: \" + str(total_sample) + \" samples\" + \", and \" + str(total_columns) + \" columns.\")"
   ]
  },
  {
   "cell_type": "code",
   "execution_count": 327,
   "id": "9313de1e-6567-4059-b0e0-2ef0b1007505",
   "metadata": {},
   "outputs": [],
   "source": [
    "# Helper function 3 - Train - test split\n",
    "def train_test_split(dataset, num_train_percentage):\n",
    "    train_num = int(len(dataset.index) * num_train_percentage/100)\n",
    "    test_num = len(dataset.index) - train_num\n",
    "    train_data = dataset.head(train_num)\n",
    "    test_data = dataset.tail(test_num)\n",
    "    return train_data, test_data\n",
    "\n",
    "# Step 3:Train - Test split operation\n",
    "train_data, test_data = train_test_split(dataset, 70)"
   ]
  },
  {
   "cell_type": "code",
   "execution_count": 328,
   "id": "52f5c6ab-23f1-4e17-b941-99bd9ea9aa63",
   "metadata": {},
   "outputs": [
    {
     "data": {
      "text/html": [
       "<div>\n",
       "<style scoped>\n",
       "    .dataframe tbody tr th:only-of-type {\n",
       "        vertical-align: middle;\n",
       "    }\n",
       "\n",
       "    .dataframe tbody tr th {\n",
       "        vertical-align: top;\n",
       "    }\n",
       "\n",
       "    .dataframe thead th {\n",
       "        text-align: right;\n",
       "    }\n",
       "</style>\n",
       "<table border=\"1\" class=\"dataframe\">\n",
       "  <thead>\n",
       "    <tr style=\"text-align: right;\">\n",
       "      <th></th>\n",
       "      <th>Pixel 1</th>\n",
       "      <th>Pixel 2</th>\n",
       "      <th>Pixel 3</th>\n",
       "      <th>Pixel 4</th>\n",
       "      <th>Pixel 5</th>\n",
       "      <th>Pixel 6</th>\n",
       "      <th>Pixel 7</th>\n",
       "      <th>Pixel 8</th>\n",
       "      <th>Pixel 9</th>\n",
       "      <th>Pixel 10</th>\n",
       "      <th>...</th>\n",
       "      <th>Pixel 29992</th>\n",
       "      <th>Pixel 29993</th>\n",
       "      <th>Pixel 29994</th>\n",
       "      <th>Pixel 29995</th>\n",
       "      <th>Pixel 29996</th>\n",
       "      <th>Pixel 29997</th>\n",
       "      <th>Pixel 29998</th>\n",
       "      <th>Pixel 29999</th>\n",
       "      <th>Pixel 30000</th>\n",
       "      <th>label</th>\n",
       "    </tr>\n",
       "  </thead>\n",
       "  <tbody>\n",
       "    <tr>\n",
       "      <th>0</th>\n",
       "      <td>0.470588</td>\n",
       "      <td>0.501961</td>\n",
       "      <td>0.498039</td>\n",
       "      <td>0.470588</td>\n",
       "      <td>0.501961</td>\n",
       "      <td>0.498039</td>\n",
       "      <td>0.470588</td>\n",
       "      <td>0.501961</td>\n",
       "      <td>0.498039</td>\n",
       "      <td>0.470588</td>\n",
       "      <td>...</td>\n",
       "      <td>0.470588</td>\n",
       "      <td>0.498039</td>\n",
       "      <td>0.584314</td>\n",
       "      <td>0.482353</td>\n",
       "      <td>0.498039</td>\n",
       "      <td>0.603922</td>\n",
       "      <td>0.435294</td>\n",
       "      <td>0.447059</td>\n",
       "      <td>0.568627</td>\n",
       "      <td>0.0</td>\n",
       "    </tr>\n",
       "    <tr>\n",
       "      <th>1</th>\n",
       "      <td>0.564706</td>\n",
       "      <td>0.694118</td>\n",
       "      <td>0.768627</td>\n",
       "      <td>0.580392</td>\n",
       "      <td>0.709804</td>\n",
       "      <td>0.784314</td>\n",
       "      <td>0.580392</td>\n",
       "      <td>0.717647</td>\n",
       "      <td>0.803922</td>\n",
       "      <td>0.513725</td>\n",
       "      <td>...</td>\n",
       "      <td>0.725490</td>\n",
       "      <td>0.823529</td>\n",
       "      <td>0.949020</td>\n",
       "      <td>0.729412</td>\n",
       "      <td>0.835294</td>\n",
       "      <td>0.968627</td>\n",
       "      <td>0.717647</td>\n",
       "      <td>0.827451</td>\n",
       "      <td>0.964706</td>\n",
       "      <td>1.0</td>\n",
       "    </tr>\n",
       "    <tr>\n",
       "      <th>2</th>\n",
       "      <td>0.349020</td>\n",
       "      <td>0.454902</td>\n",
       "      <td>0.509804</td>\n",
       "      <td>0.403922</td>\n",
       "      <td>0.509804</td>\n",
       "      <td>0.564706</td>\n",
       "      <td>0.372549</td>\n",
       "      <td>0.478431</td>\n",
       "      <td>0.533333</td>\n",
       "      <td>0.407843</td>\n",
       "      <td>...</td>\n",
       "      <td>0.486275</td>\n",
       "      <td>0.607843</td>\n",
       "      <td>0.666667</td>\n",
       "      <td>0.509804</td>\n",
       "      <td>0.631373</td>\n",
       "      <td>0.690196</td>\n",
       "      <td>0.505882</td>\n",
       "      <td>0.619608</td>\n",
       "      <td>0.678431</td>\n",
       "      <td>1.0</td>\n",
       "    </tr>\n",
       "    <tr>\n",
       "      <th>3</th>\n",
       "      <td>0.219608</td>\n",
       "      <td>0.258824</td>\n",
       "      <td>0.325490</td>\n",
       "      <td>0.188235</td>\n",
       "      <td>0.223529</td>\n",
       "      <td>0.294118</td>\n",
       "      <td>0.168627</td>\n",
       "      <td>0.207843</td>\n",
       "      <td>0.274510</td>\n",
       "      <td>0.145098</td>\n",
       "      <td>...</td>\n",
       "      <td>0.905882</td>\n",
       "      <td>0.941176</td>\n",
       "      <td>0.996078</td>\n",
       "      <td>0.850980</td>\n",
       "      <td>0.913725</td>\n",
       "      <td>0.976471</td>\n",
       "      <td>0.823529</td>\n",
       "      <td>0.882353</td>\n",
       "      <td>0.945098</td>\n",
       "      <td>1.0</td>\n",
       "    </tr>\n",
       "    <tr>\n",
       "      <th>4</th>\n",
       "      <td>0.003922</td>\n",
       "      <td>0.286275</td>\n",
       "      <td>0.180392</td>\n",
       "      <td>0.007843</td>\n",
       "      <td>0.294118</td>\n",
       "      <td>0.176471</td>\n",
       "      <td>0.070588</td>\n",
       "      <td>0.137255</td>\n",
       "      <td>0.094118</td>\n",
       "      <td>0.015686</td>\n",
       "      <td>...</td>\n",
       "      <td>0.388235</td>\n",
       "      <td>0.815686</td>\n",
       "      <td>0.768627</td>\n",
       "      <td>0.305882</td>\n",
       "      <td>0.847059</td>\n",
       "      <td>0.776471</td>\n",
       "      <td>0.098039</td>\n",
       "      <td>0.752941</td>\n",
       "      <td>0.670588</td>\n",
       "      <td>1.0</td>\n",
       "    </tr>\n",
       "  </tbody>\n",
       "</table>\n",
       "<p>5 rows × 30001 columns</p>\n",
       "</div>"
      ],
      "text/plain": [
       "    Pixel 1   Pixel 2   Pixel 3   Pixel 4   Pixel 5   Pixel 6   Pixel 7  \\\n",
       "0  0.470588  0.501961  0.498039  0.470588  0.501961  0.498039  0.470588   \n",
       "1  0.564706  0.694118  0.768627  0.580392  0.709804  0.784314  0.580392   \n",
       "2  0.349020  0.454902  0.509804  0.403922  0.509804  0.564706  0.372549   \n",
       "3  0.219608  0.258824  0.325490  0.188235  0.223529  0.294118  0.168627   \n",
       "4  0.003922  0.286275  0.180392  0.007843  0.294118  0.176471  0.070588   \n",
       "\n",
       "    Pixel 8   Pixel 9  Pixel 10  ...  Pixel 29992  Pixel 29993  Pixel 29994  \\\n",
       "0  0.501961  0.498039  0.470588  ...     0.470588     0.498039     0.584314   \n",
       "1  0.717647  0.803922  0.513725  ...     0.725490     0.823529     0.949020   \n",
       "2  0.478431  0.533333  0.407843  ...     0.486275     0.607843     0.666667   \n",
       "3  0.207843  0.274510  0.145098  ...     0.905882     0.941176     0.996078   \n",
       "4  0.137255  0.094118  0.015686  ...     0.388235     0.815686     0.768627   \n",
       "\n",
       "   Pixel 29995  Pixel 29996  Pixel 29997  Pixel 29998  Pixel 29999  \\\n",
       "0     0.482353     0.498039     0.603922     0.435294     0.447059   \n",
       "1     0.729412     0.835294     0.968627     0.717647     0.827451   \n",
       "2     0.509804     0.631373     0.690196     0.505882     0.619608   \n",
       "3     0.850980     0.913725     0.976471     0.823529     0.882353   \n",
       "4     0.305882     0.847059     0.776471     0.098039     0.752941   \n",
       "\n",
       "   Pixel 30000  label  \n",
       "0     0.568627    0.0  \n",
       "1     0.964706    1.0  \n",
       "2     0.678431    1.0  \n",
       "3     0.945098    1.0  \n",
       "4     0.670588    1.0  \n",
       "\n",
       "[5 rows x 30001 columns]"
      ]
     },
     "execution_count": 328,
     "metadata": {},
     "output_type": "execute_result"
    }
   ],
   "source": [
    "# Testing result\n",
    "train_data.head(5)"
   ]
  },
  {
   "cell_type": "code",
   "execution_count": 329,
   "id": "f84426c4-4813-4cd8-bd70-7b5bcf180278",
   "metadata": {},
   "outputs": [
    {
     "name": "stdout",
     "output_type": "stream",
     "text": [
      "There are 192 samples in the training dataset.\n",
      "Also, there are 83 samples in the testing dataset.\n",
      "...........................................................................................................\n",
      "(30000,)\n",
      "()\n",
      "<class 'numpy.ndarray'>\n",
      "<class 'pandas.core.series.Series'>\n",
      "1.0\n",
      "<class 'numpy.float64'>\n",
      "...........................................................................................................\n",
      "      Pixel 1   Pixel 2   Pixel 3   Pixel 4   Pixel 5   Pixel 6   Pixel 7  \\\n",
      "0    0.470588  0.501961  0.498039  0.470588  0.501961  0.498039  0.470588   \n",
      "1    0.564706  0.694118  0.768627  0.580392  0.709804  0.784314  0.580392   \n",
      "2    0.349020  0.454902  0.509804  0.403922  0.509804  0.564706  0.372549   \n",
      "3    0.219608  0.258824  0.325490  0.188235  0.223529  0.294118  0.168627   \n",
      "4    0.003922  0.286275  0.180392  0.007843  0.294118  0.176471  0.070588   \n",
      "..        ...       ...       ...       ...       ...       ...       ...   \n",
      "187  0.011765  0.047059  0.101961  0.000000  0.031373  0.086275  0.011765   \n",
      "188  0.090196  0.227451  0.266667  0.109804  0.250980  0.301961  0.133333   \n",
      "189  0.996078  0.996078  0.996078  1.000000  1.000000  1.000000  0.960784   \n",
      "190  0.184314  0.168627  0.164706  0.184314  0.168627  0.164706  0.176471   \n",
      "191  0.431373  0.419608  0.403922  0.435294  0.423529  0.407843  0.443137   \n",
      "\n",
      "      Pixel 8   Pixel 9  Pixel 10  ...  Pixel 29991  Pixel 29992  Pixel 29993  \\\n",
      "0    0.501961  0.498039  0.470588  ...     0.603922     0.470588     0.498039   \n",
      "1    0.717647  0.803922  0.513725  ...     0.964706     0.725490     0.823529   \n",
      "2    0.478431  0.533333  0.407843  ...     0.631373     0.486275     0.607843   \n",
      "3    0.207843  0.274510  0.145098  ...     1.000000     0.905882     0.941176   \n",
      "4    0.137255  0.094118  0.015686  ...     0.741176     0.388235     0.815686   \n",
      "..        ...       ...       ...  ...          ...          ...          ...   \n",
      "187  0.047059  0.101961  0.003922  ...     0.000000     0.000000     0.003922   \n",
      "188  0.286275  0.345098  0.117647  ...     0.003922     0.000000     0.003922   \n",
      "189  0.960784  0.960784  1.000000  ...     0.254902     0.113725     0.145098   \n",
      "190  0.160784  0.156863  0.160784  ...     0.149020     0.007843     0.133333   \n",
      "191  0.431373  0.415686  0.447059  ...     0.227451     0.258824     0.239216   \n",
      "\n",
      "     Pixel 29994  Pixel 29995  Pixel 29996  Pixel 29997  Pixel 29998  \\\n",
      "0       0.584314     0.482353     0.498039     0.603922     0.435294   \n",
      "1       0.949020     0.729412     0.835294     0.968627     0.717647   \n",
      "2       0.666667     0.509804     0.631373     0.690196     0.505882   \n",
      "3       0.996078     0.850980     0.913725     0.976471     0.823529   \n",
      "4       0.768627     0.305882     0.847059     0.776471     0.098039   \n",
      "..           ...          ...          ...          ...          ...   \n",
      "187     0.000000     0.003922     0.011765     0.003922     0.015686   \n",
      "188     0.003922     0.000000     0.007843     0.007843     0.007843   \n",
      "189     0.160784     0.305882     0.317647     0.333333     0.266667   \n",
      "190     0.066667     0.101961     0.243137     0.176471     0.070588   \n",
      "191     0.235294     0.250980     0.243137     0.243137     0.266667   \n",
      "\n",
      "     Pixel 29999  Pixel 30000  \n",
      "0       0.447059     0.568627  \n",
      "1       0.827451     0.964706  \n",
      "2       0.619608     0.678431  \n",
      "3       0.882353     0.945098  \n",
      "4       0.752941     0.670588  \n",
      "..           ...          ...  \n",
      "187     0.015686     0.015686  \n",
      "188     0.015686     0.015686  \n",
      "189     0.301961     0.321569  \n",
      "190     0.180392     0.129412  \n",
      "191     0.247059     0.235294  \n",
      "\n",
      "[192 rows x 30000 columns]\n",
      "...........................................................................................................\n",
      "153\n",
      "[0.80784314 0.82352941 0.81960784 ... 0.4        0.41176471 0.42745098]\n"
     ]
    }
   ],
   "source": [
    "# Step 4: Retrieving important information from the train and the test dataset\n",
    "train_num = len(train_data.index)\n",
    "test_num = len(test_data.index)\n",
    "train_feature = train_data.iloc[:, :-1]\n",
    "train_label = train_data.iloc[:,-1]\n",
    "test_feature = test_data.iloc[:, :-1]\n",
    "test_label = test_data.iloc[:,-1]\n",
    "print(\"There are \" + str(train_num) + \" samples in the training dataset.\")\n",
    "print(\"Also, there are \" + str(test_num) + \" samples in the testing dataset.\")\n",
    "print(\"...........................................................................................................\")\n",
    "\n",
    "# Test the dimension of train_feature and test_feature\n",
    "print(train_feature.iloc[1,:].shape)\n",
    "print(train_label.iloc[1].shape)\n",
    "print(type(train_feature.iloc[1].values))\n",
    "print(type(train_feature.iloc[1]))\n",
    "print(train_label.iloc[1])\n",
    "print(type(train_label.iloc[1]))\n",
    "print(\"...........................................................................................................\")\n",
    "print(train_feature)\n",
    "index_arr = np.array(train_feature.index)\n",
    "print(\"...........................................................................................................\")\n",
    "rand = np.random.choice(index_arr)\n",
    "print(rand)\n",
    "print(train_feature.iloc[rand, :].values)"
   ]
  },
  {
   "cell_type": "code",
   "execution_count": 330,
   "id": "4189ee11-f397-4ccf-ae70-53ff3057f201",
   "metadata": {},
   "outputs": [],
   "source": [
    "# Step 5: Define Sigmoid function\n",
    "def sig(x):\n",
    "    x = np.clip(x, -40, 40)  # Limit the range of x to avoid overflow\n",
    "    return (1+np.exp(-x)) ** -1"
   ]
  },
  {
   "cell_type": "code",
   "execution_count": 331,
   "id": "2634c200-baca-4dc2-9a56-dc391da3f814",
   "metadata": {},
   "outputs": [
    {
     "name": "stdout",
     "output_type": "stream",
     "text": [
      "[0.73105858 0.88079708 0.95257413]\n",
      "0.9525741268224334\n"
     ]
    }
   ],
   "source": [
    "# Test sigmoid function\n",
    "print(sig(np.array([1,2,3])))\n",
    "print(sig(3))"
   ]
  },
  {
   "cell_type": "code",
   "execution_count": 332,
   "id": "4594861d-967e-46f4-b7a5-ebacb8955c7f",
   "metadata": {},
   "outputs": [],
   "source": [
    "# Step 6: Define init function\n",
    "def init(dim_w):\n",
    "    w = np.zeros((1, dim_w), dtype=float)\n",
    "    b = 0.0\n",
    "    return w, b"
   ]
  },
  {
   "cell_type": "code",
   "execution_count": 333,
   "id": "15c3576d-9ca1-4104-81fa-3a756f944efd",
   "metadata": {},
   "outputs": [
    {
     "name": "stdout",
     "output_type": "stream",
     "text": [
      "[[0. 0. 0.]] 0.0\n",
      "(1, 3)\n"
     ]
    }
   ],
   "source": [
    "# Test init function\n",
    "w, b = init(3)\n",
    "print(w,b)\n",
    "print(w.shape)"
   ]
  },
  {
   "cell_type": "code",
   "execution_count": 334,
   "id": "eb0b3953-131a-449b-b27c-1eaab056e1df",
   "metadata": {},
   "outputs": [],
   "source": [
    "# Step 6: Logistic cost function\n",
    "def cost_logistic(features, label, w, b):\n",
    "    m = len(features.index)\n",
    "    loss = 0\n",
    "    for i in range(m):\n",
    "        siG = sig(np.dot(w, features.iloc[i,:]) + b)\n",
    "        loss += label.iloc[i] * np.log(siG + 1.000001) + (1 - label.iloc[i]) * np.log(1.000001 - siG)\n",
    "    return -(loss/m)"
   ]
  },
  {
   "cell_type": "code",
   "execution_count": 335,
   "id": "79772494-0085-4de4-beae-442e7676e0c0",
   "metadata": {},
   "outputs": [
    {
     "name": "stdout",
     "output_type": "stream",
     "text": [
      "The testing loss value is  [-0.03926212]\n"
     ]
    }
   ],
   "source": [
    "# Test loss function\n",
    "w_test, b_test = init(len(train_feature.columns))\n",
    "test_loss = cost_logistic(train_feature, train_label, w_test, b_test)\n",
    "print(\"The testing loss value is \", test_loss)"
   ]
  },
  {
   "cell_type": "code",
   "execution_count": 336,
   "id": "6732bf48-eea6-43db-bb6e-55d9541286fd",
   "metadata": {},
   "outputs": [],
   "source": [
    "# Step 7: SGD implementation\n",
    "def SGD_Logistic(train_features, train_label, learning_rate = 0.05, iteration = 100000):\n",
    "    num_features = len(train_features.columns)\n",
    "    w, b = init(num_features)\n",
    "    index_arr = np.array(train_features.index)\n",
    "\n",
    "    cost = []\n",
    "    for i in range(iteration):\n",
    "        random_sample = np.random.choice(index_arr)\n",
    "        sample_x = train_features.iloc[random_sample, :].values\n",
    "        sample_y = train_label[random_sample]\n",
    "        if (i + 1) % 1000 == 0:\n",
    "            cost1 = cost_logistic(train_features, train_label, w, b)\n",
    "            cost.append(cost1)\n",
    "            #print(\"The cost at iteration \" + str(i + 1) + \" is \" + str(cost1) + \".\")\n",
    "        w += learning_rate * (sample_y - sig(np.dot(w, sample_x) + b)) * sample_x\n",
    "        b += learning_rate * (sample_y - sig(np.dot(w, sample_x) + b))\n",
    "    \n",
    "    # Plot trajectory curve\n",
    "    plt.plot(cost)\n",
    "    plt.xlabel(\"Iterations\")\n",
    "    plt.ylabel(\"Cost\")\n",
    "    plt.title(\"Trajectory curve\")\n",
    "    plt.show()\n",
    "    \n",
    "    return w, b"
   ]
  },
  {
   "cell_type": "code",
   "execution_count": 337,
   "id": "02bb2bd3-efd6-42b2-b21d-c57e4048cb64",
   "metadata": {},
   "outputs": [
    {
     "data": {
      "image/png": "[encoded data removed]",
      "text/plain": [
       "<Figure size 640x480 with 1 Axes>"
      ]
     },
     "metadata": {},
     "output_type": "display_data"
    }
   ],
   "source": [
    "# Step 8: Train optimized parameter\n",
    "w_result, b_result = SGD_Logistic(train_feature, train_label, learning_rate = 0.3)"
   ]
  },
  {
   "cell_type": "code",
   "execution_count": 338,
   "id": "c3f51a8e-3de8-4cea-8369-f3d5d3cd1a67",
   "metadata": {
    "scrolled": true
   },
   "outputs": [
    {
     "name": "stdout",
     "output_type": "stream",
     "text": [
      "[[-6.31693297 -5.21036071 -3.22834775 ...  1.50029526  2.5527193\n",
      "   2.50818258]] [-6.55954145]\n"
     ]
    }
   ],
   "source": [
    "# Step 9: Display with the result\n",
    "print(w_result, b_result)"
   ]
  },
  {
   "cell_type": "code",
   "execution_count": 339,
   "id": "3cd8b3bc-6386-486b-bf0c-015eb97f26ec",
   "metadata": {},
   "outputs": [
    {
     "name": "stdout",
     "output_type": "stream",
     "text": [
      "(1, 30000)\n",
      "(83, 30000)\n",
      "(83,)\n"
     ]
    }
   ],
   "source": [
    "# Play with the result and the test set\n",
    "print(w_result.shape)\n",
    "print(test_feature.shape)\n",
    "print(test_label.shape)"
   ]
  },
  {
   "cell_type": "code",
   "execution_count": 340,
   "id": "d04c0caa-3e8d-48a7-ae9a-1329fa6e5634",
   "metadata": {},
   "outputs": [],
   "source": [
    "# Step 10: Error function\n",
    "def accuracy_rate(feature, label, w, b):\n",
    "    temp_arr = np.round(sig(np.dot(feature, w.T) + b)) # temp_arr is of shape (k, 1)\n",
    "    temp_arr += label.values.reshape(-1, 1) # test_label is of shape (k, 1)\n",
    "    err = np.sum(temp_arr == 1)/temp_arr.shape[0]\n",
    "    return 1 - err"
   ]
  },
  {
   "cell_type": "code",
   "execution_count": 341,
   "id": "09018e3a-3be8-496c-9416-61a863689588",
   "metadata": {},
   "outputs": [
    {
     "name": "stdout",
     "output_type": "stream",
     "text": [
      "The accuracy rate of the testing dataset is:  0.6024096385542168\n",
      "The accuracy rate of the training dataset is:  1.0\n"
     ]
    }
   ],
   "source": [
    "# Step 11: Evaluate the performance of the logistic regression model\n",
    "print(\"The accuracy rate of the testing dataset is: \", accuracy_rate(test_feature, test_label, w_result, b_result))\n",
    "print(\"The accuracy rate of the training dataset is: \", accuracy_rate(train_feature, train_label, w_result, b_result))"
   ]
  },
  {
   "cell_type": "code",
   "execution_count": null,
   "id": "59dc81c3-6005-4bf7-bc3e-b52f850a8ab8",
   "metadata": {},
   "outputs": [],
   "source": []
  }
 ],
 "metadata": {
  "kernelspec": {
   "display_name": "Python 3 (ipykernel)",
   "language": "python",
   "name": "python3"
  },
  "language_info": {
   "codemirror_mode": {
    "name": "ipython",
    "version": 3
   },
   "file_extension": ".py",
   "mimetype": "text/x-python",
   "name": "python",
   "nbconvert_exporter": "python",
   "pygments_lexer": "ipython3",
   "version": "3.11.5"
  }
 },
 "nbformat": 4,
 "nbformat_minor": 5
}
